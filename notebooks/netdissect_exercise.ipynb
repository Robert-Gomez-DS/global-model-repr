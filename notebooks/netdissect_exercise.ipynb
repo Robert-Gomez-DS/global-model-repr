{
 "cells": [
  {
   "cell_type": "code",
   "execution_count": null,
   "metadata": {},
   "outputs": [],
   "source": [
    "import torch, os\n",
    "import matplotlib.pyplot as plt\n",
    "from netdissect import setting, show, imgviz, segmenter, renormalize, nethook, tally, upsample"
   ]
  },
  {
   "cell_type": "code",
   "execution_count": null,
   "metadata": {},
   "outputs": [],
   "source": [
    "model = setting.load_vgg16()\n",
    "model = nethook.InstrumentedModel(model)\n",
    "model.cuda()\n",
    "ds = setting.load_dataset('places', 'val')\n",
    "renorm = renormalize.renormalizer(ds, target='zc')\n",
    "segmodel = segmenter.UnifiedParsingSegmenter(segsizes=[256])\n",
    "seglabels = [l for l, c in segmodel.get_label_and_category_names()[0]]\n",
    "iv = imgviz.ImageVisualizer(224, source=ds, percent_level=0.99)\n",
    "ivsmall = imgviz.ImageVisualizer((56, 56), source=ds, percent_level=0.99)\n",
    "def resfile(f):\n",
    "    return os.path.join('results/vgg16-places', f)"
   ]
  },
  {
   "cell_type": "code",
   "execution_count": null,
   "metadata": {},
   "outputs": [],
   "source": [
    "indexes = range(100, 112)\n",
    "batch = torch.stack([ds[i][0] for i in indexes])\n",
    "preds = model(batch.cuda()).max(1)[1]\n",
    "show([[\n",
    "    iv.image(batch[j]),\n",
    "    'label: ' + ds.classes[ds[i][1]],\n",
    "    'pred: ' + ds.classes[preds[j]]]\n",
    "    for j, i in enumerate(indexes)])"
   ]
  },
  {
   "cell_type": "code",
   "execution_count": null,
   "metadata": {},
   "outputs": [],
   "source": [
    "seg = segmodel.segment_batch(renorm(batch).cuda(), downsample=4)\n",
    "show([(iv.image(batch[i]), iv.segmentation(seg[i,0]),\n",
    "            iv.segment_key(seg[i,0], segmodel))\n",
    "            for i in range(len(seg))])"
   ]
  },
  {
   "cell_type": "code",
   "execution_count": null,
   "metadata": {},
   "outputs": [],
   "source": [
    "layername = 'features.conv5_1'\n",
    "model.retain_layer(layername)\n",
    "model(batch.cuda())\n",
    "acts = model.retained_layer(layername).cpu()\n",
    "show([\n",
    "    [\n",
    "        [ivsmall.masked_image(batch[0], acts[0], u)],\n",
    "        [ivsmall.heatmap(acts[0], u, mode='nearest')],\n",
    "        'unit %d' % u\n",
    "    ]\n",
    "    for u in range(min(21, acts.shape[1]))\n",
    "])"
   ]
  },
  {
   "cell_type": "code",
   "execution_count": null,
   "metadata": {},
   "outputs": [],
   "source": [
    "upfn = upsample.upsampler(\n",
    "    target_shape=(56, 56),\n",
    "    data_shape=(7, 7),\n",
    ")\n",
    "\n",
    "def flatten_activations(batch, *args):\n",
    "    image_batch = batch.cuda()\n",
    "    _ = model(image_batch)\n",
    "    acts = model.retained_layer(layername)\n",
    "    hacts = upfn(acts)\n",
    "    return hacts.permute(0, 2, 3, 1).contiguous().view(-1, acts.shape[1])\n",
    "\n",
    "rq = tally.tally_quantile(\n",
    "    flatten_activations,\n",
    "    dataset=ds,\n",
    "    sample_size=1000,\n",
    "    batch_size=100,\n",
    "    cachefile=resfile(layername + '_rq.npz'))"
   ]
  },
  {
   "cell_type": "code",
   "execution_count": null,
   "metadata": {},
   "outputs": [],
   "source": [
    "plt.plot(rq.quantiles(0.9))\n",
    "\n",
    "# Which unit is activating more often than the others?\n",
    "rq.quantiles(0.9).max(0)[1]"
   ]
  },
  {
   "cell_type": "code",
   "execution_count": null,
   "metadata": {},
   "outputs": [],
   "source": [
    "sample_size = 1000\n",
    "\n",
    "def max_activations(batch, *args):\n",
    "    image_batch = batch.cuda()\n",
    "    _ = model(image_batch)\n",
    "    acts = model.retained_layer(layername)\n",
    "    return acts.view(acts.shape[:2] + (-1,)).max(2)[0]\n",
    "\n",
    "topk = tally.tally_topk(\n",
    "    max_activations,\n",
    "    dataset=ds,\n",
    "    sample_size=sample_size,\n",
    "    batch_size=100,\n",
    "    cachefile=resfile(layername + '_topk.npz')\n",
    ")\n",
    "\n",
    "top_indexes = topk.result()[1]"
   ]
  },
  {
   "cell_type": "code",
   "execution_count": null,
   "metadata": {
    "scrolled": false
   },
   "outputs": [],
   "source": [
    "show.blocks([\n",
    "    ['unit %d' % u,\n",
    "     'img %d' % i,\n",
    "     'pred: %s' % ds.classes[model(ds[i][0][None].cuda()).max(1)[1].item()],\n",
    "     [iv.masked_image(\n",
    "        ds[i][0],\n",
    "        model.retained_layer(layername)[0],\n",
    "        u)]\n",
    "    ]\n",
    "    for u in [12]\n",
    "    for i in top_indexes[u, :50]\n",
    "])"
   ]
  },
  {
   "cell_type": "code",
   "execution_count": null,
   "metadata": {},
   "outputs": [],
   "source": [
    "level_at_99 = rq.quantiles(0.99).cuda()[None,:,None,None]\n",
    "\n",
    "def compute_selected_segments(batch, *args):\n",
    "    image_batch = batch.cuda()\n",
    "    seg = segmodel.segment_batch(renorm(image_batch), downsample=4)\n",
    "    _ = model(image_batch)\n",
    "    acts = model.retained_layer(layername)\n",
    "    hacts = upfn(acts)\n",
    "    iacts = (hacts > level_at_99).float() # indicator where > 0.99 percentile.\n",
    "    return tally.conditional_samples(iacts, seg)\n",
    "\n",
    "condi99 = tally.tally_conditional_mean(\n",
    "    compute_selected_segments,\n",
    "    dataset=ds,\n",
    "    sample_size=sample_size,\n",
    "    cachefile=resfile(layername + '_condi99.npz'))"
   ]
  }
 ],
 "metadata": {
  "kernelspec": {
   "display_name": "Python 3",
   "language": "python",
   "name": "python3"
  },
  "language_info": {
   "codemirror_mode": {
    "name": "ipython",
    "version": 3
   },
   "file_extension": ".py",
   "mimetype": "text/x-python",
   "name": "python",
   "nbconvert_exporter": "python",
   "pygments_lexer": "ipython3",
   "version": "3.6.7"
  }
 },
 "nbformat": 4,
 "nbformat_minor": 2
}