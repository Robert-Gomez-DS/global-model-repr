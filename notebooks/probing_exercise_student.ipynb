{
  "nbformat": 4,
  "nbformat_minor": 0,
  "metadata": {
    "accelerator": "GPU",
    "colab": {
      "name": "probing_exercise.ipynb",
      "provenance": [],
      "toc_visible": true
    },
    "kernelspec": {
      "display_name": "Python 3",
      "language": "python",
      "name": "python3"
    },
    "language_info": {
      "codemirror_mode": {
        "name": "ipython",
        "version": 3
      },
      "file_extension": ".py",
      "mimetype": "text/x-python",
      "name": "python",
      "nbconvert_exporter": "python",
      "pygments_lexer": "ipython3",
      "version": "3.7.3"
    }
  },
  "cells": [
    {
      "cell_type": "markdown",
      "metadata": {
        "id": "mYMMrtphqpgk",
        "colab_type": "text"
      },
      "source": [
        "# Imports and path setup\n",
        "\n",
        "\n"
      ]
    },
    {
      "cell_type": "code",
      "metadata": {
        "colab_type": "code",
        "id": "WkzRe66H3iVW",
        "outputId": "23473b6d-660f-4340-98f3-0ba36cc48de5",
        "colab": {
          "base_uri": "https://localhost:8080/",
          "height": 887
        }
      },
      "source": [
        "!git clone https://github.com/SIDN-IAP/global-model-repr.git tutorial_code\n",
        "!pip install transformers==2.1\n",
        "!pip install spacy ftfy==4.4.3\n",
        "!python -m spacy download en\n",
        "\n",
        "import torch\n",
        "from transformers import BertTokenizer, BertModel\n",
        "import numpy as np\n",
        "import sys\n",
        "# sys.path.append('global-model-repr/')\n",
        "sys.path.append('/content/tutorial_code')\n",
        "# sys.path.append('..')\n",
        "from probing.utils import get_sentence_repr, get_model_and_tokenizer, get_pos_data\n",
        "\n",
        "if torch.cuda.is_available():\n",
        "    device = torch.device('cuda')\n",
        "else:\n",
        "    print(\"Change runtime type to include a GPU.\")  \n",
        "    device = torch.device('cpu')\n",
        "print(\"device:\", device)"
      ],
      "execution_count": 85,
      "outputs": [
        {
          "output_type": "stream",
          "text": [
            "fatal: destination path 'tutorial_code' already exists and is not an empty directory.\n",
            "Requirement already satisfied: transformers==2.1 in /usr/local/lib/python3.6/dist-packages (2.1.0)\n",
            "Requirement already satisfied: regex in /usr/local/lib/python3.6/dist-packages (from transformers==2.1) (2019.12.20)\n",
            "Requirement already satisfied: sentencepiece in /usr/local/lib/python3.6/dist-packages (from transformers==2.1) (0.1.85)\n",
            "Requirement already satisfied: tqdm in /usr/local/lib/python3.6/dist-packages (from transformers==2.1) (4.28.1)\n",
            "Requirement already satisfied: requests in /usr/local/lib/python3.6/dist-packages (from transformers==2.1) (2.21.0)\n",
            "Requirement already satisfied: numpy in /usr/local/lib/python3.6/dist-packages (from transformers==2.1) (1.17.5)\n",
            "Requirement already satisfied: boto3 in /usr/local/lib/python3.6/dist-packages (from transformers==2.1) (1.10.47)\n",
            "Requirement already satisfied: sacremoses in /usr/local/lib/python3.6/dist-packages (from transformers==2.1) (0.0.38)\n",
            "Requirement already satisfied: idna<2.9,>=2.5 in /usr/local/lib/python3.6/dist-packages (from requests->transformers==2.1) (2.8)\n",
            "Requirement already satisfied: certifi>=2017.4.17 in /usr/local/lib/python3.6/dist-packages (from requests->transformers==2.1) (2019.11.28)\n",
            "Requirement already satisfied: urllib3<1.25,>=1.21.1 in /usr/local/lib/python3.6/dist-packages (from requests->transformers==2.1) (1.24.3)\n",
            "Requirement already satisfied: chardet<3.1.0,>=3.0.2 in /usr/local/lib/python3.6/dist-packages (from requests->transformers==2.1) (3.0.4)\n",
            "Requirement already satisfied: jmespath<1.0.0,>=0.7.1 in /usr/local/lib/python3.6/dist-packages (from boto3->transformers==2.1) (0.9.4)\n",
            "Requirement already satisfied: botocore<1.14.0,>=1.13.47 in /usr/local/lib/python3.6/dist-packages (from boto3->transformers==2.1) (1.13.47)\n",
            "Requirement already satisfied: s3transfer<0.3.0,>=0.2.0 in /usr/local/lib/python3.6/dist-packages (from boto3->transformers==2.1) (0.2.1)\n",
            "Requirement already satisfied: joblib in /usr/local/lib/python3.6/dist-packages (from sacremoses->transformers==2.1) (0.14.1)\n",
            "Requirement already satisfied: six in /usr/local/lib/python3.6/dist-packages (from sacremoses->transformers==2.1) (1.12.0)\n",
            "Requirement already satisfied: click in /usr/local/lib/python3.6/dist-packages (from sacremoses->transformers==2.1) (7.0)\n",
            "Requirement already satisfied: python-dateutil<3.0.0,>=2.1; python_version >= \"2.7\" in /usr/local/lib/python3.6/dist-packages (from botocore<1.14.0,>=1.13.47->boto3->transformers==2.1) (2.6.1)\n",
            "Requirement already satisfied: docutils<0.16,>=0.10 in /usr/local/lib/python3.6/dist-packages (from botocore<1.14.0,>=1.13.47->boto3->transformers==2.1) (0.15.2)\n",
            "Requirement already satisfied: spacy in /usr/local/lib/python3.6/dist-packages (2.1.9)\n",
            "Requirement already satisfied: ftfy==4.4.3 in /usr/local/lib/python3.6/dist-packages (4.4.3)\n",
            "Requirement already satisfied: numpy>=1.15.0 in /usr/local/lib/python3.6/dist-packages (from spacy) (1.17.5)\n",
            "Requirement already satisfied: requests<3.0.0,>=2.13.0 in /usr/local/lib/python3.6/dist-packages (from spacy) (2.21.0)\n",
            "Requirement already satisfied: preshed<2.1.0,>=2.0.1 in /usr/local/lib/python3.6/dist-packages (from spacy) (2.0.1)\n",
            "Requirement already satisfied: murmurhash<1.1.0,>=0.28.0 in /usr/local/lib/python3.6/dist-packages (from spacy) (1.0.2)\n",
            "Requirement already satisfied: plac<1.0.0,>=0.9.6 in /usr/local/lib/python3.6/dist-packages (from spacy) (0.9.6)\n",
            "Requirement already satisfied: srsly<1.1.0,>=0.0.6 in /usr/local/lib/python3.6/dist-packages (from spacy) (1.0.1)\n",
            "Requirement already satisfied: blis<0.3.0,>=0.2.2 in /usr/local/lib/python3.6/dist-packages (from spacy) (0.2.4)\n",
            "Requirement already satisfied: thinc<7.1.0,>=7.0.8 in /usr/local/lib/python3.6/dist-packages (from spacy) (7.0.8)\n",
            "Requirement already satisfied: cymem<2.1.0,>=2.0.2 in /usr/local/lib/python3.6/dist-packages (from spacy) (2.0.3)\n",
            "Requirement already satisfied: wasabi<1.1.0,>=0.2.0 in /usr/local/lib/python3.6/dist-packages (from spacy) (0.6.0)\n",
            "Requirement already satisfied: html5lib in /usr/local/lib/python3.6/dist-packages (from ftfy==4.4.3) (1.0.1)\n",
            "Requirement already satisfied: wcwidth in /usr/local/lib/python3.6/dist-packages (from ftfy==4.4.3) (0.1.8)\n",
            "Requirement already satisfied: chardet<3.1.0,>=3.0.2 in /usr/local/lib/python3.6/dist-packages (from requests<3.0.0,>=2.13.0->spacy) (3.0.4)\n",
            "Requirement already satisfied: idna<2.9,>=2.5 in /usr/local/lib/python3.6/dist-packages (from requests<3.0.0,>=2.13.0->spacy) (2.8)\n",
            "Requirement already satisfied: certifi>=2017.4.17 in /usr/local/lib/python3.6/dist-packages (from requests<3.0.0,>=2.13.0->spacy) (2019.11.28)\n",
            "Requirement already satisfied: urllib3<1.25,>=1.21.1 in /usr/local/lib/python3.6/dist-packages (from requests<3.0.0,>=2.13.0->spacy) (1.24.3)\n",
            "Requirement already satisfied: tqdm<5.0.0,>=4.10.0 in /usr/local/lib/python3.6/dist-packages (from thinc<7.1.0,>=7.0.8->spacy) (4.28.1)\n",
            "Requirement already satisfied: six>=1.9 in /usr/local/lib/python3.6/dist-packages (from html5lib->ftfy==4.4.3) (1.12.0)\n",
            "Requirement already satisfied: webencodings in /usr/local/lib/python3.6/dist-packages (from html5lib->ftfy==4.4.3) (0.5.1)\n",
            "Requirement already satisfied: en_core_web_sm==2.1.0 from https://github.com/explosion/spacy-models/releases/download/en_core_web_sm-2.1.0/en_core_web_sm-2.1.0.tar.gz#egg=en_core_web_sm==2.1.0 in /usr/local/lib/python3.6/dist-packages (2.1.0)\n",
            "\u001b[38;5;2m✔ Download and installation successful\u001b[0m\n",
            "You can now load the model via spacy.load('en_core_web_sm')\n",
            "\u001b[38;5;2m✔ Linking successful\u001b[0m\n",
            "/usr/local/lib/python3.6/dist-packages/en_core_web_sm -->\n",
            "/usr/local/lib/python3.6/dist-packages/spacy/data/en\n",
            "You can now load the model via spacy.load('en')\n",
            "device: cuda\n"
          ],
          "name": "stdout"
        }
      ]
    },
    {
      "cell_type": "markdown",
      "metadata": {
        "colab_type": "text",
        "id": "PxaHPQIG3iVf"
      },
      "source": [
        "# Get data for part-of-speech tagging\n",
        "A probing experiment requires supervised data with linguistic annotation for the property we wish to study. We will use part-of-speech (POS) tagging, a classical problem in NLP. We will use (a portion of) the English Web dependency treebank from the Universal Dependencies project (https://universaldependencies.org/). The dataset comes with POS information, morphological features (tense, gender, number, etc.), and dependency labels (subject, object, etc.), so it can be used to stufy various aspects of language. "
      ]
    },
    {
      "cell_type": "code",
      "metadata": {
        "colab_type": "code",
        "id": "t0-xo6-q3iVg",
        "outputId": "f4669b16-1b23-4796-c82a-11f927bc1f62",
        "colab": {
          "base_uri": "https://localhost:8080/",
          "height": 51
        }
      },
      "source": [
        "train_sentences, train_labels, test_sentences, test_labels, _, _, label2index = get_pos_data(\"global-model-repr/probing\", frac=0.1)\n",
        "# train_sentences, train_labels, test_sentences, test_labels, _, _, label2index = get_pos_data(\"../probing\", frac=0.1)\n",
        "num_labels = len(label2index)\n",
        "print(\"Training sentences:\", len(train_sentences), \"Test sentences:\", len(test_sentences))\n",
        "print(\"Unique labels:\", num_labels)"
      ],
      "execution_count": 86,
      "outputs": [
        {
          "output_type": "stream",
          "text": [
            "Training sentences: 1254 Test sentences: 208\n",
            "Unique labels: 17\n"
          ],
          "name": "stdout"
        }
      ]
    },
    {
      "cell_type": "markdown",
      "metadata": {
        "colab_type": "text",
        "id": "keg_tLaD3iVk"
      },
      "source": [
        "# Set up model\n",
        "A probing experiment also requires a probing model, also known as an auxiliary classifier. Here we define a simple linear classifier, which takes a word representation as input and applies a linear transformation to map it to the label space. \n",
        "\n",
        "We also need a pre-model deep neural network to study. We will use the popular BERT model (https://www.aclweb.org/anthology/N19-1423.pdf), available via the HuggingFace Transformers library (https://huggingface.co/transformers/).  The library provides a number of other models that you can easily experiment with thanks to the unified API. "
      ]
    },
    {
      "cell_type": "code",
      "metadata": {
        "colab_type": "code",
        "id": "hXSLHwPJ3iVl",
        "colab": {}
      },
      "source": [
        "class Classifier(torch.nn.Module):\n",
        "    \n",
        "    def __init__(self, input_dim, output_dim):\n",
        "        super(Classifier, self).__init__()\n",
        "        \n",
        "        self.linear = torch.nn.Linear(input_dim, output_dim)\n",
        "        \n",
        "    def forward(self, input):\n",
        "        output = self.linear(input)\n",
        "        return output\n",
        "    \n",
        "\n",
        "class NonlinearClassifier(torch.nn.Module):\n",
        "    \n",
        "    def __init__(self, input_dim, output_dim):\n",
        "        super(NonlinearClassifier, self).__init__()\n",
        "        \n",
        "        self.input2hidden = torch.nn.Linear(input_dim, input_dim)\n",
        "        self.hidden2output = torch.nn.Linear(input_dim, output_dim)\n",
        "        \n",
        "    def forward(self, input):\n",
        "        hidden = self.input2hidden(input)\n",
        "        output = self.hidden2output(hidden)\n",
        "        return output\n",
        "    \n",
        "    \n",
        "def build_classifier(emb_dim, num_labels, device='cpu'):\n",
        "\n",
        "    classifier = Classifier(emb_dim, num_labels).to(device)\n",
        "    criterion = torch.nn.CrossEntropyLoss().to(device)\n",
        "    optimizer = torch.optim.Adam(classifier.parameters())\n",
        "\n",
        "    return classifier, criterion, optimizer\n",
        "\n",
        "\n",
        "def build_nonlinear_classifier(emb_dim, num_labels, device='cpu'):\n",
        "\n",
        "    classifier = NonlinearClassifier(emb_dim, num_labels).to(device)\n",
        "    criterion = torch.nn.CrossEntropyLoss().to(device)\n",
        "    optimizer = torch.optim.Adam(classifier.parameters())\n",
        "\n",
        "    return classifier, criterion, optimizer\n",
        "\n",
        "\n",
        "model_name = 'bert-base-cased'\n",
        "# get model and tokenizer from Transformers\n",
        "model, tokenizer, sep, emb_dim = get_model_and_tokenizer(model_name, device)\n",
        "# build classifier\n",
        "classifier, criterion, optimizer = build_classifier(emb_dim, num_labels, device)"
      ],
      "execution_count": 0,
      "outputs": []
    },
    {
      "cell_type": "code",
      "metadata": {
        "colab_type": "code",
        "id": "kuLxynuc3iVp",
        "outputId": "317e357a-6b04-461b-fa06-17c6396d3334",
        "colab": {
          "base_uri": "https://localhost:8080/",
          "height": 1000
        }
      },
      "source": [
        "print(model)"
      ],
      "execution_count": 88,
      "outputs": [
        {
          "output_type": "stream",
          "text": [
            "BertModel(\n",
            "  (embeddings): BertEmbeddings(\n",
            "    (word_embeddings): Embedding(28996, 768, padding_idx=0)\n",
            "    (position_embeddings): Embedding(512, 768)\n",
            "    (token_type_embeddings): Embedding(2, 768)\n",
            "    (LayerNorm): LayerNorm((768,), eps=1e-12, elementwise_affine=True)\n",
            "    (dropout): Dropout(p=0.1, inplace=False)\n",
            "  )\n",
            "  (encoder): BertEncoder(\n",
            "    (layer): ModuleList(\n",
            "      (0): BertLayer(\n",
            "        (attention): BertAttention(\n",
            "          (self): BertSelfAttention(\n",
            "            (query): Linear(in_features=768, out_features=768, bias=True)\n",
            "            (key): Linear(in_features=768, out_features=768, bias=True)\n",
            "            (value): Linear(in_features=768, out_features=768, bias=True)\n",
            "            (dropout): Dropout(p=0.1, inplace=False)\n",
            "          )\n",
            "          (output): BertSelfOutput(\n",
            "            (dense): Linear(in_features=768, out_features=768, bias=True)\n",
            "            (LayerNorm): LayerNorm((768,), eps=1e-12, elementwise_affine=True)\n",
            "            (dropout): Dropout(p=0.1, inplace=False)\n",
            "          )\n",
            "        )\n",
            "        (intermediate): BertIntermediate(\n",
            "          (dense): Linear(in_features=768, out_features=3072, bias=True)\n",
            "        )\n",
            "        (output): BertOutput(\n",
            "          (dense): Linear(in_features=3072, out_features=768, bias=True)\n",
            "          (LayerNorm): LayerNorm((768,), eps=1e-12, elementwise_affine=True)\n",
            "          (dropout): Dropout(p=0.1, inplace=False)\n",
            "        )\n",
            "      )\n",
            "      (1): BertLayer(\n",
            "        (attention): BertAttention(\n",
            "          (self): BertSelfAttention(\n",
            "            (query): Linear(in_features=768, out_features=768, bias=True)\n",
            "            (key): Linear(in_features=768, out_features=768, bias=True)\n",
            "            (value): Linear(in_features=768, out_features=768, bias=True)\n",
            "            (dropout): Dropout(p=0.1, inplace=False)\n",
            "          )\n",
            "          (output): BertSelfOutput(\n",
            "            (dense): Linear(in_features=768, out_features=768, bias=True)\n",
            "            (LayerNorm): LayerNorm((768,), eps=1e-12, elementwise_affine=True)\n",
            "            (dropout): Dropout(p=0.1, inplace=False)\n",
            "          )\n",
            "        )\n",
            "        (intermediate): BertIntermediate(\n",
            "          (dense): Linear(in_features=768, out_features=3072, bias=True)\n",
            "        )\n",
            "        (output): BertOutput(\n",
            "          (dense): Linear(in_features=3072, out_features=768, bias=True)\n",
            "          (LayerNorm): LayerNorm((768,), eps=1e-12, elementwise_affine=True)\n",
            "          (dropout): Dropout(p=0.1, inplace=False)\n",
            "        )\n",
            "      )\n",
            "      (2): BertLayer(\n",
            "        (attention): BertAttention(\n",
            "          (self): BertSelfAttention(\n",
            "            (query): Linear(in_features=768, out_features=768, bias=True)\n",
            "            (key): Linear(in_features=768, out_features=768, bias=True)\n",
            "            (value): Linear(in_features=768, out_features=768, bias=True)\n",
            "            (dropout): Dropout(p=0.1, inplace=False)\n",
            "          )\n",
            "          (output): BertSelfOutput(\n",
            "            (dense): Linear(in_features=768, out_features=768, bias=True)\n",
            "            (LayerNorm): LayerNorm((768,), eps=1e-12, elementwise_affine=True)\n",
            "            (dropout): Dropout(p=0.1, inplace=False)\n",
            "          )\n",
            "        )\n",
            "        (intermediate): BertIntermediate(\n",
            "          (dense): Linear(in_features=768, out_features=3072, bias=True)\n",
            "        )\n",
            "        (output): BertOutput(\n",
            "          (dense): Linear(in_features=3072, out_features=768, bias=True)\n",
            "          (LayerNorm): LayerNorm((768,), eps=1e-12, elementwise_affine=True)\n",
            "          (dropout): Dropout(p=0.1, inplace=False)\n",
            "        )\n",
            "      )\n",
            "      (3): BertLayer(\n",
            "        (attention): BertAttention(\n",
            "          (self): BertSelfAttention(\n",
            "            (query): Linear(in_features=768, out_features=768, bias=True)\n",
            "            (key): Linear(in_features=768, out_features=768, bias=True)\n",
            "            (value): Linear(in_features=768, out_features=768, bias=True)\n",
            "            (dropout): Dropout(p=0.1, inplace=False)\n",
            "          )\n",
            "          (output): BertSelfOutput(\n",
            "            (dense): Linear(in_features=768, out_features=768, bias=True)\n",
            "            (LayerNorm): LayerNorm((768,), eps=1e-12, elementwise_affine=True)\n",
            "            (dropout): Dropout(p=0.1, inplace=False)\n",
            "          )\n",
            "        )\n",
            "        (intermediate): BertIntermediate(\n",
            "          (dense): Linear(in_features=768, out_features=3072, bias=True)\n",
            "        )\n",
            "        (output): BertOutput(\n",
            "          (dense): Linear(in_features=3072, out_features=768, bias=True)\n",
            "          (LayerNorm): LayerNorm((768,), eps=1e-12, elementwise_affine=True)\n",
            "          (dropout): Dropout(p=0.1, inplace=False)\n",
            "        )\n",
            "      )\n",
            "      (4): BertLayer(\n",
            "        (attention): BertAttention(\n",
            "          (self): BertSelfAttention(\n",
            "            (query): Linear(in_features=768, out_features=768, bias=True)\n",
            "            (key): Linear(in_features=768, out_features=768, bias=True)\n",
            "            (value): Linear(in_features=768, out_features=768, bias=True)\n",
            "            (dropout): Dropout(p=0.1, inplace=False)\n",
            "          )\n",
            "          (output): BertSelfOutput(\n",
            "            (dense): Linear(in_features=768, out_features=768, bias=True)\n",
            "            (LayerNorm): LayerNorm((768,), eps=1e-12, elementwise_affine=True)\n",
            "            (dropout): Dropout(p=0.1, inplace=False)\n",
            "          )\n",
            "        )\n",
            "        (intermediate): BertIntermediate(\n",
            "          (dense): Linear(in_features=768, out_features=3072, bias=True)\n",
            "        )\n",
            "        (output): BertOutput(\n",
            "          (dense): Linear(in_features=3072, out_features=768, bias=True)\n",
            "          (LayerNorm): LayerNorm((768,), eps=1e-12, elementwise_affine=True)\n",
            "          (dropout): Dropout(p=0.1, inplace=False)\n",
            "        )\n",
            "      )\n",
            "      (5): BertLayer(\n",
            "        (attention): BertAttention(\n",
            "          (self): BertSelfAttention(\n",
            "            (query): Linear(in_features=768, out_features=768, bias=True)\n",
            "            (key): Linear(in_features=768, out_features=768, bias=True)\n",
            "            (value): Linear(in_features=768, out_features=768, bias=True)\n",
            "            (dropout): Dropout(p=0.1, inplace=False)\n",
            "          )\n",
            "          (output): BertSelfOutput(\n",
            "            (dense): Linear(in_features=768, out_features=768, bias=True)\n",
            "            (LayerNorm): LayerNorm((768,), eps=1e-12, elementwise_affine=True)\n",
            "            (dropout): Dropout(p=0.1, inplace=False)\n",
            "          )\n",
            "        )\n",
            "        (intermediate): BertIntermediate(\n",
            "          (dense): Linear(in_features=768, out_features=3072, bias=True)\n",
            "        )\n",
            "        (output): BertOutput(\n",
            "          (dense): Linear(in_features=3072, out_features=768, bias=True)\n",
            "          (LayerNorm): LayerNorm((768,), eps=1e-12, elementwise_affine=True)\n",
            "          (dropout): Dropout(p=0.1, inplace=False)\n",
            "        )\n",
            "      )\n",
            "      (6): BertLayer(\n",
            "        (attention): BertAttention(\n",
            "          (self): BertSelfAttention(\n",
            "            (query): Linear(in_features=768, out_features=768, bias=True)\n",
            "            (key): Linear(in_features=768, out_features=768, bias=True)\n",
            "            (value): Linear(in_features=768, out_features=768, bias=True)\n",
            "            (dropout): Dropout(p=0.1, inplace=False)\n",
            "          )\n",
            "          (output): BertSelfOutput(\n",
            "            (dense): Linear(in_features=768, out_features=768, bias=True)\n",
            "            (LayerNorm): LayerNorm((768,), eps=1e-12, elementwise_affine=True)\n",
            "            (dropout): Dropout(p=0.1, inplace=False)\n",
            "          )\n",
            "        )\n",
            "        (intermediate): BertIntermediate(\n",
            "          (dense): Linear(in_features=768, out_features=3072, bias=True)\n",
            "        )\n",
            "        (output): BertOutput(\n",
            "          (dense): Linear(in_features=3072, out_features=768, bias=True)\n",
            "          (LayerNorm): LayerNorm((768,), eps=1e-12, elementwise_affine=True)\n",
            "          (dropout): Dropout(p=0.1, inplace=False)\n",
            "        )\n",
            "      )\n",
            "      (7): BertLayer(\n",
            "        (attention): BertAttention(\n",
            "          (self): BertSelfAttention(\n",
            "            (query): Linear(in_features=768, out_features=768, bias=True)\n",
            "            (key): Linear(in_features=768, out_features=768, bias=True)\n",
            "            (value): Linear(in_features=768, out_features=768, bias=True)\n",
            "            (dropout): Dropout(p=0.1, inplace=False)\n",
            "          )\n",
            "          (output): BertSelfOutput(\n",
            "            (dense): Linear(in_features=768, out_features=768, bias=True)\n",
            "            (LayerNorm): LayerNorm((768,), eps=1e-12, elementwise_affine=True)\n",
            "            (dropout): Dropout(p=0.1, inplace=False)\n",
            "          )\n",
            "        )\n",
            "        (intermediate): BertIntermediate(\n",
            "          (dense): Linear(in_features=768, out_features=3072, bias=True)\n",
            "        )\n",
            "        (output): BertOutput(\n",
            "          (dense): Linear(in_features=3072, out_features=768, bias=True)\n",
            "          (LayerNorm): LayerNorm((768,), eps=1e-12, elementwise_affine=True)\n",
            "          (dropout): Dropout(p=0.1, inplace=False)\n",
            "        )\n",
            "      )\n",
            "      (8): BertLayer(\n",
            "        (attention): BertAttention(\n",
            "          (self): BertSelfAttention(\n",
            "            (query): Linear(in_features=768, out_features=768, bias=True)\n",
            "            (key): Linear(in_features=768, out_features=768, bias=True)\n",
            "            (value): Linear(in_features=768, out_features=768, bias=True)\n",
            "            (dropout): Dropout(p=0.1, inplace=False)\n",
            "          )\n",
            "          (output): BertSelfOutput(\n",
            "            (dense): Linear(in_features=768, out_features=768, bias=True)\n",
            "            (LayerNorm): LayerNorm((768,), eps=1e-12, elementwise_affine=True)\n",
            "            (dropout): Dropout(p=0.1, inplace=False)\n",
            "          )\n",
            "        )\n",
            "        (intermediate): BertIntermediate(\n",
            "          (dense): Linear(in_features=768, out_features=3072, bias=True)\n",
            "        )\n",
            "        (output): BertOutput(\n",
            "          (dense): Linear(in_features=3072, out_features=768, bias=True)\n",
            "          (LayerNorm): LayerNorm((768,), eps=1e-12, elementwise_affine=True)\n",
            "          (dropout): Dropout(p=0.1, inplace=False)\n",
            "        )\n",
            "      )\n",
            "      (9): BertLayer(\n",
            "        (attention): BertAttention(\n",
            "          (self): BertSelfAttention(\n",
            "            (query): Linear(in_features=768, out_features=768, bias=True)\n",
            "            (key): Linear(in_features=768, out_features=768, bias=True)\n",
            "            (value): Linear(in_features=768, out_features=768, bias=True)\n",
            "            (dropout): Dropout(p=0.1, inplace=False)\n",
            "          )\n",
            "          (output): BertSelfOutput(\n",
            "            (dense): Linear(in_features=768, out_features=768, bias=True)\n",
            "            (LayerNorm): LayerNorm((768,), eps=1e-12, elementwise_affine=True)\n",
            "            (dropout): Dropout(p=0.1, inplace=False)\n",
            "          )\n",
            "        )\n",
            "        (intermediate): BertIntermediate(\n",
            "          (dense): Linear(in_features=768, out_features=3072, bias=True)\n",
            "        )\n",
            "        (output): BertOutput(\n",
            "          (dense): Linear(in_features=3072, out_features=768, bias=True)\n",
            "          (LayerNorm): LayerNorm((768,), eps=1e-12, elementwise_affine=True)\n",
            "          (dropout): Dropout(p=0.1, inplace=False)\n",
            "        )\n",
            "      )\n",
            "      (10): BertLayer(\n",
            "        (attention): BertAttention(\n",
            "          (self): BertSelfAttention(\n",
            "            (query): Linear(in_features=768, out_features=768, bias=True)\n",
            "            (key): Linear(in_features=768, out_features=768, bias=True)\n",
            "            (value): Linear(in_features=768, out_features=768, bias=True)\n",
            "            (dropout): Dropout(p=0.1, inplace=False)\n",
            "          )\n",
            "          (output): BertSelfOutput(\n",
            "            (dense): Linear(in_features=768, out_features=768, bias=True)\n",
            "            (LayerNorm): LayerNorm((768,), eps=1e-12, elementwise_affine=True)\n",
            "            (dropout): Dropout(p=0.1, inplace=False)\n",
            "          )\n",
            "        )\n",
            "        (intermediate): BertIntermediate(\n",
            "          (dense): Linear(in_features=768, out_features=3072, bias=True)\n",
            "        )\n",
            "        (output): BertOutput(\n",
            "          (dense): Linear(in_features=3072, out_features=768, bias=True)\n",
            "          (LayerNorm): LayerNorm((768,), eps=1e-12, elementwise_affine=True)\n",
            "          (dropout): Dropout(p=0.1, inplace=False)\n",
            "        )\n",
            "      )\n",
            "      (11): BertLayer(\n",
            "        (attention): BertAttention(\n",
            "          (self): BertSelfAttention(\n",
            "            (query): Linear(in_features=768, out_features=768, bias=True)\n",
            "            (key): Linear(in_features=768, out_features=768, bias=True)\n",
            "            (value): Linear(in_features=768, out_features=768, bias=True)\n",
            "            (dropout): Dropout(p=0.1, inplace=False)\n",
            "          )\n",
            "          (output): BertSelfOutput(\n",
            "            (dense): Linear(in_features=768, out_features=768, bias=True)\n",
            "            (LayerNorm): LayerNorm((768,), eps=1e-12, elementwise_affine=True)\n",
            "            (dropout): Dropout(p=0.1, inplace=False)\n",
            "          )\n",
            "        )\n",
            "        (intermediate): BertIntermediate(\n",
            "          (dense): Linear(in_features=768, out_features=3072, bias=True)\n",
            "        )\n",
            "        (output): BertOutput(\n",
            "          (dense): Linear(in_features=3072, out_features=768, bias=True)\n",
            "          (LayerNorm): LayerNorm((768,), eps=1e-12, elementwise_affine=True)\n",
            "          (dropout): Dropout(p=0.1, inplace=False)\n",
            "        )\n",
            "      )\n",
            "    )\n",
            "  )\n",
            "  (pooler): BertPooler(\n",
            "    (dense): Linear(in_features=768, out_features=768, bias=True)\n",
            "    (activation): Tanh()\n",
            "  )\n",
            ")\n"
          ],
          "name": "stdout"
        }
      ]
    },
    {
      "cell_type": "code",
      "metadata": {
        "colab_type": "code",
        "id": "BpNO3Ida3iVs",
        "outputId": "ae7c0bb8-1b2b-4a10-9a90-d9e7f75c9dfa",
        "colab": {
          "base_uri": "https://localhost:8080/",
          "height": 68
        }
      },
      "source": [
        "print(classifier)"
      ],
      "execution_count": 89,
      "outputs": [
        {
          "output_type": "stream",
          "text": [
            "Classifier(\n",
            "  (linear): Linear(in_features=768, out_features=17, bias=True)\n",
            ")\n"
          ],
          "name": "stdout"
        }
      ]
    },
    {
      "cell_type": "markdown",
      "metadata": {
        "colab_type": "text",
        "id": "4KluH35v3iVv"
      },
      "source": [
        "# Train\n",
        "Given a pre-trained model, a probing classifier, and supervised linguistic annotations, we can run a probing experiment. First, we'll define a training function that trains the classifier on the linguistic annotations. This is a simple implementation, but one could implement various checks like early stopping on a development set, etc. "
      ]
    },
    {
      "cell_type": "code",
      "metadata": {
        "colab_type": "code",
        "id": "5Q_On99u3iVx",
        "colab": {}
      },
      "source": [
        "def train(num_epochs, train_representations, train_labels, \n",
        "          model, tokenizer, sep, model_name, device, \n",
        "          classifier, criterion, optimizer, batch_size=32):\n",
        "    \n",
        "    num_total = train_representations.shape[0] \n",
        "    for i in range(num_epochs):\n",
        "        total_loss = 0.\n",
        "        num_correct = 0.\n",
        "        for batch in range(0, num_total, batch_size):\n",
        "            batch_repr = train_representations[batch: batch+batch_size]\n",
        "            batch_labels = train_labels[batch: batch+batch_size]\n",
        "\n",
        "            optimizer.zero_grad()\n",
        "            \n",
        "            out = classifier(batch_repr)\n",
        "            pred = out.max(1)[1]\n",
        "            num_correct += pred.long().eq(batch_labels.long()).cpu().sum().item()\n",
        "            loss = criterion(out, batch_labels)\n",
        "            total_loss += loss.item()\n",
        "\n",
        "            loss.backward()\n",
        "            optimizer.step()\n",
        "#         print('Training epoch: {}, loss: {}, accuracy: {}'.format(i, total_loss/num_total, num_correct/num_total))\n",
        "    return total_loss/num_total, num_correct/num_total"
      ],
      "execution_count": 0,
      "outputs": []
    },
    {
      "cell_type": "markdown",
      "metadata": {
        "colab_type": "text",
        "id": "6Y8Rge5S3iV0"
      },
      "source": [
        "# Evaluate\n",
        "Given the trained classifier, we'll evaluate its performance on the test set. "
      ]
    },
    {
      "cell_type": "code",
      "metadata": {
        "colab_type": "code",
        "id": "Gi0fG0vg3iV1",
        "colab": {}
      },
      "source": [
        "def evaluate(test_representations, test_labels, \n",
        "             model, tokenizer, sep, model_name, device, \n",
        "             classifier, criterion, batch_size=32):\n",
        "    \n",
        "    num_correct = 0.\n",
        "    num_total = test_representations.shape[0]\n",
        "    total_loss = 0.\n",
        "    with torch.no_grad():\n",
        "        for batch in range(0, num_total, batch_size):\n",
        "            batch_repr = test_representations[batch: batch+batch_size]\n",
        "            batch_labels = test_labels[batch: batch+batch_size]\n",
        "            \n",
        "            out = classifier(batch_repr)\n",
        "            pred = out.max(1)[1]\n",
        "            num_correct += pred.long().eq(batch_labels.long()).cpu().sum().item()\n",
        "            total_loss += criterion(out, batch_labels)\n",
        "\n",
        "#     print('Testing loss: {}, accuracy: {}'.format(total_loss/num_total, num_correct/num_total))\n",
        "    return total_loss/num_total, num_correct/num_total"
      ],
      "execution_count": 0,
      "outputs": []
    },
    {
      "cell_type": "markdown",
      "metadata": {
        "id": "yT6l9zXlWv3_",
        "colab_type": "text"
      },
      "source": [
        "# Generate representations with pretrained model\n",
        "Here we collect representations from the pre-trained model. We also apply a few data transformations for convenience. \n",
        "The end result is `train_sentence_representations`, a list of tensors, where each tensor has representations from one layer in the deep model. Each tensor has dimensions num_word in the corpus x representation dimensionality. "
      ]
    },
    {
      "cell_type": "code",
      "metadata": {
        "id": "lsDgYtC2Wv4B",
        "colab_type": "code",
        "colab": {}
      },
      "source": [
        "# top-level list: sentences, second-level lists: layers, third-level tensors of num_words x representation_dim\n",
        "train_sentence_representations = [get_sentence_repr(sentence, model, tokenizer, sep, model_name, device) \n",
        "                                  for sentence in train_sentences]\n",
        "test_sentence_representations = [get_sentence_repr(sentence, model, tokenizer, sep, model_name, device) \n",
        "                                  for sentence in test_sentences]\n",
        "\n",
        "# top-level list: layers, second-level lists: sentences\n",
        "train_sentence_representations = [list(l) for l in zip(*train_sentence_representations)]\n",
        "test_sentence_representations = [list(l) for l in zip(*test_sentence_representations)]                           \n",
        "\n",
        "# concatenate all word represenations\n",
        "train_representations_all = [torch.tensor(np.concatenate(train_layer_representations, 0)).to(device) for train_layer_representations in train_sentence_representations]\n",
        "test_representations_all = [torch.tensor(np.concatenate(test_layer_representations, 0)).to(device) for test_layer_representations in test_sentence_representations]\n",
        "# concatenate all labels\n",
        "train_labels_all = torch.tensor(np.concatenate(train_labels, 0)).to(device)\n",
        "test_labels_all = torch.tensor(np.concatenate(test_labels, 0)).to(device)"
      ],
      "execution_count": 0,
      "outputs": []
    },
    {
      "cell_type": "markdown",
      "metadata": {
        "colab_type": "text",
        "id": "RIBpbUIv3iV4"
      },
      "source": [
        "# Experiment 1: Evaluate representation for POS quality\n",
        "In this experiment, we train and evaluate a classifier on the top-level representations of BERT on the task of POS tagging. The test accuracy can be thought of as a measure of the quality of the representations for the POS property. "
      ]
    },
    {
      "cell_type": "code",
      "metadata": {
        "colab_type": "code",
        "id": "i-Hsz50R3iV5",
        "outputId": "8c2c2f15-cd99-4823-dd2a-f9022a1de086",
        "colab": {
          "base_uri": "https://localhost:8080/",
          "height": 34
        }
      },
      "source": [
        "# Take final layer representations\n",
        "train_representations = train_representations_all[-1]\n",
        "test_representations = test_representations_all[-1]\n",
        "\n",
        "# train\n",
        "train_loss, train_accuracy = train(10, train_representations, train_labels_all, \n",
        "          model, tokenizer, sep, model_name, device, \n",
        "          classifier, criterion, optimizer)\n",
        "# test\n",
        "test_loss, test_accuracy = evaluate(test_representations, test_labels_all, \n",
        "         model, tokenizer, sep, model_name, device, \n",
        "         classifier, criterion)\n",
        "print(\"Train accuracy: {}, Test accuracy: {}\".format(train_accuracy, test_accuracy))"
      ],
      "execution_count": 93,
      "outputs": [
        {
          "output_type": "stream",
          "text": [
            "Train accuracy: 0.926499462823695, Test accuracy: 0.9172932330827067\n"
          ],
          "name": "stdout"
        }
      ]
    },
    {
      "cell_type": "markdown",
      "metadata": {
        "colab_type": "text",
        "id": "7RncHqDF3iV8"
      },
      "source": [
        "# Experiment 2: Compare representation quality across layers\n",
        "One of the major questions in neural network interpretability is how information is organized in different parts of the deep model, such as its layers. Here we train and evaluate a separate classifier per each layer. Notice the test accuracy results for this task, and how deeper is not always better in our case. "
      ]
    },
    {
      "cell_type": "code",
      "metadata": {
        "colab_type": "code",
        "id": "jYqr1lX93iV9",
        "outputId": "cc7459d4-5c02-45ed-bb73-cdd7ad3fbc0e",
        "colab": {
          "base_uri": "https://localhost:8080/",
          "height": 238
        }
      },
      "source": [
        "num_layers = len(train_representations_all)\n",
        "train_accs, test_accs = [], []\n",
        "for l in range(num_layers):\n",
        "    # build new classifier for every layer experiment\n",
        "    classifier, criterion, optimizer = build_classifier(emb_dim, num_labels, device)\n",
        "    # get layer representation \n",
        "    train_representations = train_representations_all[l]\n",
        "    test_representations = test_representations_all[l]\n",
        "    \n",
        "    # train\n",
        "    train_loss, train_accuracy = train(2, train_representations, train_labels_all, \n",
        "          model, tokenizer, sep, model_name, device, \n",
        "          classifier, criterion, optimizer)\n",
        "    train_accs.append(train_accuracy)\n",
        "    # test\n",
        "    test_loss, test_accuracy = evaluate(test_representations, test_labels_all, \n",
        "         model, tokenizer, sep, model_name, device, \n",
        "         classifier, criterion)\n",
        "    test_accs.append(test_accuracy)\n",
        "    print(\"layer: {}, train accuracy: {}, test accuracy: {}\".format(l, train_accuracy, test_accuracy))"
      ],
      "execution_count": 94,
      "outputs": [
        {
          "output_type": "stream",
          "text": [
            "layer: 0, train accuracy: 0.8648908976401289, test accuracy: 0.8478549314462627\n",
            "layer: 1, train accuracy: 0.8841181046938095, test accuracy: 0.8763821318000885\n",
            "layer: 2, train accuracy: 0.9240543844700478, test accuracy: 0.9287925696594427\n",
            "layer: 3, train accuracy: 0.9294631941614493, test accuracy: 0.927686864219372\n",
            "layer: 4, train accuracy: 0.9315748527395992, test accuracy: 0.930561698363556\n",
            "layer: 5, train accuracy: 0.9319453191568184, test accuracy: 0.9301194161875277\n",
            "layer: 6, train accuracy: 0.931648946023043, test accuracy: 0.9301194161875277\n",
            "layer: 7, train accuracy: 0.9309080131886045, test accuracy: 0.9259177355152587\n",
            "layer: 8, train accuracy: 0.9243878042455451, test accuracy: 0.9203892083149049\n",
            "layer: 9, train accuracy: 0.9146445374726782, test accuracy: 0.9130915524104378\n",
            "layer: 10, train accuracy: 0.903419405030934, test accuracy: 0.9020344980097302\n",
            "layer: 11, train accuracy: 0.8942688845256177, test accuracy: 0.8965059708093763\n",
            "layer: 12, train accuracy: 0.8651131774904605, test accuracy: 0.8748341441839894\n"
          ],
          "name": "stdout"
        }
      ]
    },
    {
      "cell_type": "markdown",
      "metadata": {
        "colab_type": "text",
        "id": "Sqkxu9xq3iWB"
      },
      "source": [
        "# Experiment 3: Non-linear classifier\n",
        "Does the probing accuracy depend on the probing model? We have previously trained a linear probing classifier. Here we train a non-linear classifier with one hidden layer. Does the layer-wise pattern change with a different probing model? What does this tell us about the information encoded in the model's internal representations?"
      ]
    },
    {
      "cell_type": "code",
      "metadata": {
        "colab_type": "code",
        "id": "sML_JwTh3iWC",
        "outputId": "3641f2b3-6bf9-44ad-8055-82a0d8f20b2f",
        "scrolled": true,
        "colab": {
          "base_uri": "https://localhost:8080/",
          "height": 238
        }
      },
      "source": [
        "num_layers = len(train_representations_all)\n",
        "train_accs, test_accs = [], []\n",
        "for l in range(num_layers):\n",
        "    # build non-linear classifier\n",
        "    classifier, criterion, optimizer = build_nonlinear_classifier(emb_dim, num_labels, device)\n",
        "    # get layer representation \n",
        "    train_representations = train_representations_all[l]\n",
        "    test_representations = test_representations_all[l]\n",
        "    \n",
        "    # train\n",
        "    train_loss, train_accuracy = train(2, train_representations, train_labels_all, \n",
        "          model, tokenizer, sep, model_name, device, \n",
        "          classifier, criterion, optimizer)\n",
        "    train_accs.append(train_accuracy)\n",
        "    # test\n",
        "    test_loss, test_accuracy = evaluate(test_representations, test_labels_all, \n",
        "         model, tokenizer, sep, model_name, device, \n",
        "         classifier, criterion)\n",
        "    test_accs.append(test_accuracy)\n",
        "    print(\"layer: {}, train accuracy: {}, test accuracy: {}\".format(l, train_accuracy, test_accuracy))"
      ],
      "execution_count": 95,
      "outputs": [
        {
          "output_type": "stream",
          "text": [
            "layer: 0, train accuracy: 0.8586300151891231, test accuracy: 0.8268465280849182\n",
            "layer: 1, train accuracy: 0.8770421961249213, test accuracy: 0.8356921716054843\n",
            "layer: 2, train accuracy: 0.9184973882117586, test accuracy: 0.9024767801857585\n",
            "layer: 3, train accuracy: 0.9252769236468714, test accuracy: 0.9011499336576736\n",
            "layer: 4, train accuracy: 0.9259808098395881, test accuracy: 0.8993808049535603\n",
            "layer: 5, train accuracy: 0.9282036083429037, test accuracy: 0.8971693940734189\n",
            "layer: 6, train accuracy: 0.9296484273700589, test accuracy: 0.8938522777532065\n",
            "layer: 7, train accuracy: 0.9264253695402512, test accuracy: 0.9051304732419283\n",
            "layer: 8, train accuracy: 0.9221279591005075, test accuracy: 0.8898717381689518\n",
            "layer: 9, train accuracy: 0.9130885785203571, test accuracy: 0.8777089783281734\n",
            "layer: 10, train accuracy: 0.9029748453302708, test accuracy: 0.8622291021671826\n",
            "layer: 11, train accuracy: 0.8952320972103879, test accuracy: 0.8567005749668288\n",
            "layer: 12, train accuracy: 0.8793761345534027, test accuracy: 0.8538257408226448\n"
          ],
          "name": "stdout"
        }
      ]
    },
    {
      "cell_type": "markdown",
      "metadata": {
        "colab_type": "text",
        "id": "3wiAVNq0G4ei"
      },
      "source": [
        "# Experiment 4: Control labels\n",
        "\n",
        "In this experiment we test to see how much of the good performance from Experiments 2 and 3 actually come from things the POS model learned, and how much of it just comes from the probe model. To test this, we use a method from Hewitt and Liang (https://arxiv.org/pdf/1909.03368.pdf). We make a <i>control task</i> which is unrelated to the POS task and do the same probing procedure on the control task. We then measure the <i>selectivity</i> of layers; the difference between their probed accuracy on the POS task and on the control task. If a layer has learned substantial things about the POS task in particular, it should be much better at the POS task than the control task; i.e. it should have high selectivity.\n",
        "\n",
        "Following Hewitt and Liang, we use the following control task for POS tagging. Each word identity will be assigned a random POS tag, with the distribution of POS tags weighted according to their actual appearance. Each word identity will always have the same tag every time it appears. We then train and test the layers on predicting this tag from the embedding. Note that this tag is a deterministic function of the word identity, so high selectivity means the embedding actually has forgotten something about the word identity.\n",
        "\n",
        "How are the selectivity results different from the previous accuracy results? What does this tell us about the model's internal representations? \n"
      ]
    },
    {
      "cell_type": "code",
      "metadata": {
        "colab_type": "code",
        "id": "4S30miOQ3iWF",
        "colab": {}
      },
      "source": [
        "import random\n",
        "\n",
        "vocabulary = set(\n",
        "    word\n",
        "      for sentence in (train_sentences + test_sentences)\n",
        "      for word in sentence\n",
        ")\n",
        "# all_labels = sum((x.tolist() for x in train_labels), [])\n",
        "all_labels = train_labels_all.tolist()\n",
        "control_map = {word: random.choice(all_labels) for word in vocabulary}\n",
        "\n",
        "control_train_labels = [torch.tensor([control_map[word] for word in sentence]) for sentence in train_sentences]\n",
        "control_test_labels = [torch.tensor([control_map[word] for word in sentence]) for sentence in test_sentences]\n",
        "control_train_labels = torch.tensor(np.concatenate(control_train_labels, 0)).to(device)\n",
        "control_test_labels = torch.tensor(np.concatenate(control_test_labels, 0)).to(device)\n"
      ],
      "execution_count": 0,
      "outputs": []
    },
    {
      "cell_type": "code",
      "metadata": {
        "colab_type": "code",
        "id": "ZukN_X9k9_z4",
        "outputId": "ab077bd3-d7ce-4b0a-eec2-931483160f8d",
        "colab": {
          "base_uri": "https://localhost:8080/",
          "height": 238
        }
      },
      "source": [
        "num_layers = len(train_representations_all)\n",
        "control_train_accs, control_test_accs = [], [] \n",
        "for l in range(num_layers):\n",
        "    classifier, criterion, optimizer = build_nonlinear_classifier(emb_dim, num_labels, device)\n",
        "    # get layer representation \n",
        "    train_representations = train_representations_all[l]\n",
        "    test_representations = test_representations_all[l]\n",
        "    \n",
        "    # train\n",
        "    train_loss, train_accuracy = train(2, train_representations, control_train_labels, \n",
        "          model, tokenizer, sep, model_name, device, \n",
        "          classifier, criterion, optimizer)\n",
        "    control_train_accs.append(train_accuracy)\n",
        "    # test\n",
        "    test_loss, test_accuracy = evaluate(test_representations, control_test_labels, \n",
        "         model, tokenizer, sep, model_name, device, \n",
        "         classifier, criterion)\n",
        "    control_test_accs.append(test_accuracy)    \n",
        "    print(\"layer: {}, train accuracy: {}, test accuracy: {}\".format(l, train_accuracy, test_accuracy))"
      ],
      "execution_count": 97,
      "outputs": [
        {
          "output_type": "stream",
          "text": [
            "layer: 0, train accuracy: 0.7272996702848886, test accuracy: 0.703670942061035\n",
            "layer: 1, train accuracy: 0.7128144333716149, test accuracy: 0.6970367094206104\n",
            "layer: 2, train accuracy: 0.7002185751861594, test accuracy: 0.6784608580274215\n",
            "layer: 3, train accuracy: 0.685511058422554, test accuracy: 0.6607695709862893\n",
            "layer: 4, train accuracy: 0.6691364427814619, test accuracy: 0.656125608137992\n",
            "layer: 5, train accuracy: 0.6464638980476419, test accuracy: 0.6300309597523219\n",
            "layer: 6, train accuracy: 0.6266439447264105, test accuracy: 0.608359133126935\n",
            "layer: 7, train accuracy: 0.600192642536954, test accuracy: 0.5804953560371517\n",
            "layer: 8, train accuracy: 0.5756677657170377, test accuracy: 0.5566121185316232\n",
            "layer: 9, train accuracy: 0.5495869299448005, test accuracy: 0.539141972578505\n",
            "layer: 10, train accuracy: 0.5296928833401252, test accuracy: 0.5272003538257408\n",
            "layer: 11, train accuracy: 0.5127996147149261, test accuracy: 0.49889429455992923\n",
            "layer: 12, train accuracy: 0.49401696736190864, test accuracy: 0.5008845643520566\n"
          ],
          "name": "stdout"
        }
      ]
    },
    {
      "cell_type": "code",
      "metadata": {
        "id": "l9vkW8AFnNL3",
        "colab_type": "code",
        "colab": {
          "base_uri": "https://localhost:8080/",
          "height": 238
        },
        "outputId": "a8f797a8-f7d1-479d-bc33-63cb0aca5344"
      },
      "source": [
        "for l in range(num_layers):\n",
        "    print(\"layer: {}, test selectivity: {}\".format(l, test_accs[l] - control_test_accs[l]))"
      ],
      "execution_count": 98,
      "outputs": [
        {
          "output_type": "stream",
          "text": [
            "layer: 0, test selectivity: 0.12317558602388323\n",
            "layer: 1, test selectivity: 0.1386554621848739\n",
            "layer: 2, test selectivity: 0.224015922158337\n",
            "layer: 3, test selectivity: 0.2403803626713843\n",
            "layer: 4, test selectivity: 0.2432551968155683\n",
            "layer: 5, test selectivity: 0.26713843432109696\n",
            "layer: 6, test selectivity: 0.2854931446262715\n",
            "layer: 7, test selectivity: 0.32463511720477656\n",
            "layer: 8, test selectivity: 0.33325961963732864\n",
            "layer: 9, test selectivity: 0.33856700574966836\n",
            "layer: 10, test selectivity: 0.3350287483414418\n",
            "layer: 11, test selectivity: 0.3578062804068996\n",
            "layer: 12, test selectivity: 0.3529411764705882\n"
          ],
          "name": "stdout"
        }
      ]
    },
    {
      "cell_type": "code",
      "metadata": {
        "id": "c2CBCT-GWv4c",
        "colab_type": "code",
        "colab": {}
      },
      "source": [
        ""
      ],
      "execution_count": 0,
      "outputs": []
    }
  ]
}